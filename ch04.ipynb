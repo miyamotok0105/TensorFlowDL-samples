{
 "cells": [
  {
   "cell_type": "markdown",
   "metadata": {},
   "source": [
    "# 第４章 TensorFlowでRNN"
   ]
  },
  {
   "cell_type": "markdown",
   "metadata": {},
   "source": [
    "今までのニューラルネットでは時系列を考慮できなかった。時系列情報を考慮するケースとして自然言語処理がある。    \n"
   ]
  },
  {
   "cell_type": "markdown",
   "metadata": {},
   "source": [
    "## 4.1 Recurrent Neural Network"
   ]
  },
  {
   "cell_type": "markdown",
   "metadata": {},
   "source": [
    "時系列情報とは入力や出力の値だけでなく、その順序が重要になる情報。    \n",
    "「私/は/犬/が/好き/です/。」"
   ]
  },
  {
   "cell_type": "markdown",
   "metadata": {},
   "source": [
    "- tf.nn.rnn_cellパッケージのrnn_cell    \n",
    "- tf.nnパッケージのhogehoge_rnn    \n",
    "    \n",
    "tf.nn.rnn_cell.BasicRNNCell()は普通のRNNで入力 [バッチサイズ、ユニット数]の2階テンソルを受け取り、同じ2階テンソルを返す。    \n",
    "\n",
    "tf.nn.rnn_cell.BasicLSTMCell()はLSTM。    \n",
    "\n",
    "hogehoge_rnnは入力が全時刻の入力Xとrnn_cellで、全時刻の出力Yと最後の中間層状態を返す。    \n",
    "rnn_cellが単一時間の制御で、hogehoge_rnnは全体制御をする違いがある。    \n",
    "\n",
    "hogehoge_rnnはstatic_rnnとdynamic_rnnに大別できる。    \n",
    "static_rnnは時間長が固定になり、1度モデルを作ると変更できない。    \n",
    "dynamic_rnnは何時間ステップ展開するか動的にできる。"
   ]
  },
  {
   "cell_type": "markdown",
   "metadata": {},
   "source": [
    "TensorFlowのRNNを追ってみる    \n",
    "https://drive.google.com/file/d/1D2A47tXUlx8qlfIVoW4k3U8dTxEEA484/view?usp=sharing    \n",
    "or    \n",
    "https://github.com/miyamotok0105/machine-learning-handson/blob/master/tensorflow1.7.0/TensorFlow%E3%81%AERNN%E3%82%92%E8%BF%BD%E3%81%A3%E3%81%A6%E3%81%BF%E3%82%8B.ipynb"
   ]
  },
  {
   "cell_type": "markdown",
   "metadata": {},
   "source": [
    "## 4.2 TensorFlowにおけるRNN実装"
   ]
  },
  {
   "cell_type": "markdown",
   "metadata": {},
   "source": [
    "- rnn_cellについて"
   ]
  },
  {
   "cell_type": "code",
   "execution_count": 14,
   "metadata": {},
   "outputs": [
    {
     "name": "stdout",
     "output_type": "stream",
     "text": [
      "(?, 6, 12)\n"
     ]
    }
   ],
   "source": [
    "import tensorflow as tf\n",
    "\n",
    "seq_length = 6\n",
    "data_dim =4\n",
    "hidden_dim = 12\n",
    "X = tf.placeholder(tf.int32, [None, seq_length])\n",
    "Y = tf.placeholder(tf.int32, [None])\n",
    "keep_prob = tf.placeholder(tf.float32)\n",
    "\n",
    "X_one_hot = tf.one_hot(X, data_dim)\n",
    "Y_one_hot = tf.one_hot(Y, 2)\n",
    "\n",
    "def lstm_cell():\n",
    "    lstm = tf.contrib.rnn.BasicLSTMCell(hidden_dim, state_is_tuple=True)\n",
    "    drop = tf.contrib.rnn.DropoutWrapper(lstm, output_keep_prob=keep_prob)\n",
    "    return drop\n",
    "\n",
    "#3層のLSTM\n",
    "multi_cells = tf.contrib.rnn.MultiRNNCell([lstm_cell() for _ in range(3)], state_is_tuple=True)\n",
    "outputs1, _states = tf.nn.dynamic_rnn(multi_cells, X_one_hot, dtype=tf.float32)\n",
    "\n",
    "print(outputs1.shape)"
   ]
  },
  {
   "cell_type": "code",
   "execution_count": 13,
   "metadata": {},
   "outputs": [
    {
     "name": "stdout",
     "output_type": "stream",
     "text": [
      "(4, 2, 4)\n",
      "(4, 2, 20)\n"
     ]
    }
   ],
   "source": [
    "import tensorflow as tf\n",
    "import numpy as np\n",
    "\n",
    "tf.reset_default_graph()\n",
    "\n",
    "n_steps = 2\n",
    "n_inputs = 4\n",
    "n_neurons = 6\n",
    "\n",
    "X = tf.placeholder(tf.float32, [None, n_steps, n_inputs])\n",
    "\n",
    "#中間層ユニット数20のRNN\n",
    "cell1 = tf.nn.rnn_cell.BasicRNNCell(num_units=20)\n",
    "outputs, states = tf.nn.dynamic_rnn(cell1, X, dtype=tf.float32)\n",
    "\n",
    "init = tf.global_variables_initializer()\n",
    "\n",
    "X_batch = np.array([\n",
    "        # t = 0      t = 1 \n",
    "        [[0, 1, 2, 3], [15, 14, 13, 12]], \n",
    "        [[4, 5, 6, 7], [0, 0, 0, 0]], \n",
    "        [[8, 9, 10, 11], [8, 7, 6, 5]], \n",
    "        [[12, 13, 14, 15], [4, 3, 2, 1]], \n",
    "    ])\n",
    "print(X_batch.shape)\n",
    "with tf.Session() as sess:\n",
    "    init.run()\n",
    "    outputs_val = outputs.eval(feed_dict={X: X_batch})\n",
    "    \n",
    "print(outputs_val.shape)"
   ]
  },
  {
   "cell_type": "code",
   "execution_count": null,
   "metadata": {},
   "outputs": [],
   "source": []
  },
  {
   "cell_type": "code",
   "execution_count": 15,
   "metadata": {},
   "outputs": [
    {
     "name": "stdout",
     "output_type": "stream",
     "text": [
      "(4, 2, 4)\n",
      "(4, 2, 20)\n"
     ]
    }
   ],
   "source": [
    "import tensorflow as tf\n",
    "import numpy as np\n",
    "\n",
    "tf.reset_default_graph()\n",
    "\n",
    "n_steps = 2\n",
    "n_inputs = 4\n",
    "n_neurons = 6\n",
    "\n",
    "X = tf.placeholder(tf.float32, [None, n_steps, n_inputs])\n",
    "\n",
    "#中間層ユニット数20のRNN\n",
    "cell1 = tf.nn.rnn_cell.BasicRNNCell(num_units=20)\n",
    "#LSTM層\n",
    "cell2 = tf.nn.rnn_cell.LSTMCell(num_units=20, use_peepholes=True)\n",
    "#ドロップアウトを入れる\n",
    "cell2 = tf.nn.rnn_cell.DropoutWrapper(cell2, output_keep_prob=0.6)\n",
    "#RNNとLSTM\n",
    "cell = tf.nn.rnn_cell.MultiRNNCell(cells=[cell1, cell2])\n",
    "\n",
    "outputs, states = tf.nn.dynamic_rnn(cell, X, dtype=tf.float32)\n",
    "\n",
    "init = tf.global_variables_initializer()\n",
    "\n",
    "X_batch = np.array([\n",
    "        # t = 0      t = 1 \n",
    "        [[0, 1, 2, 3], [15, 14, 13, 12]], \n",
    "        [[4, 5, 6, 7], [0, 0, 0, 0]], \n",
    "        [[8, 9, 10, 11], [8, 7, 6, 5]], \n",
    "        [[12, 13, 14, 15], [4, 3, 2, 1]], \n",
    "    ])\n",
    "print(X_batch.shape)\n",
    "with tf.Session() as sess:\n",
    "    init.run()\n",
    "    outputs_val = outputs.eval(feed_dict={X: X_batch})\n",
    "    \n",
    "print(outputs_val.shape)"
   ]
  },
  {
   "cell_type": "code",
   "execution_count": null,
   "metadata": {},
   "outputs": [],
   "source": []
  },
  {
   "cell_type": "markdown",
   "metadata": {},
   "source": [
    "# Sequential MNIST"
   ]
  },
  {
   "cell_type": "markdown",
   "metadata": {},
   "source": [
    "MNISTの分類問題をRNNで実装。MNISTは[高さ、幅、チャンネル]の３階テンソルでチャンネルが１なので2階テンソルとして扱うこともできる。    \n",
    "１行目をt=1の入力、2行目をt=2とする。28時刻の時系列問題とする。    \n",
    "精度が高いわけではないが、RNNの良い教材になる。"
   ]
  },
  {
   "cell_type": "markdown",
   "metadata": {},
   "source": [
    "<img src=\"data:image/png;base64,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\">"
   ]
  },
  {
   "cell_type": "code",
   "execution_count": 3,
   "metadata": {},
   "outputs": [
    {
     "name": "stdout",
     "output_type": "stream",
     "text": [
      "Extracting data/train-images-idx3-ubyte.gz\n",
      "Extracting data/train-labels-idx1-ubyte.gz\n",
      "Extracting data/t10k-images-idx3-ubyte.gz\n",
      "Extracting data/t10k-labels-idx1-ubyte.gz\n"
     ]
    }
   ],
   "source": [
    "#-*- coding:utf-8 -*-\n",
    "from tensorflow.examples.tutorials.mnist import input_data\n",
    "import tensorflow as tf\n",
    "\n",
    "#mnistデータを格納したオブジェクトを呼び出す\n",
    "mnist = input_data.read_data_sets(\"data/\", one_hot=True)"
   ]
  },
  {
   "cell_type": "code",
   "execution_count": 4,
   "metadata": {},
   "outputs": [],
   "source": [
    "\"\"\"モデル構築開始\"\"\"\n",
    "#入力データ整形\n",
    "num_seq = 28\n",
    "num_input = 28"
   ]
  },
  {
   "cell_type": "code",
   "execution_count": 5,
   "metadata": {},
   "outputs": [],
   "source": [
    "x = tf.placeholder(tf.float32, [None, 784])\n",
    "#(バッチサイズ,高さ, 幅)の2階テンソルに変換\n",
    "input = tf.reshape(x, [-1, num_seq, num_input])"
   ]
  },
  {
   "cell_type": "markdown",
   "metadata": {},
   "source": [
    "- tf.nn.rnn_cellについて    \n",
    "型を決めた後にラッピングしていく"
   ]
  },
  {
   "cell_type": "code",
   "execution_count": 6,
   "metadata": {},
   "outputs": [],
   "source": [
    "#ユニット数128個のLSTMセル\n",
    "#三段に積む\n",
    "stacked_cells = []\n",
    "for i in range(2):\n",
    "    stacked_cells.append(tf.nn.rnn_cell.LSTMCell(num_units=128))\n",
    "cell = tf.nn.rnn_cell.MultiRNNCell(cells=stacked_cells)\n",
    "#dynamic_rnnによる時間展開\n",
    "outputs, states = tf.nn.dynamic_rnn(cell=cell, inputs=input, dtype=tf.float32)"
   ]
  },
  {
   "cell_type": "code",
   "execution_count": 7,
   "metadata": {},
   "outputs": [],
   "source": [
    "#3階テンソルを2階テンソルのリストに変換\n",
    "outputs_list = tf.unstack(outputs, axis=1)\n",
    "#最終時系列情報を取得\n",
    "last_output = outputs_list[-1]\n",
    "\n",
    "w = tf.Variable(tf.truncated_normal([128,10], stddev=0.1))\n",
    "b = tf.Variable(tf.zeros([10]))\n",
    "\n",
    "out = tf.nn.softmax(tf.matmul(last_output, w ) + b)"
   ]
  },
  {
   "cell_type": "code",
   "execution_count": 8,
   "metadata": {},
   "outputs": [],
   "source": [
    "#正解データの型を定義\n",
    "y = tf.placeholder(tf.float32, [None, 10])\n",
    "#誤差関数（クロスエントロピー）\n",
    "loss = tf.reduce_mean(-tf.reduce_sum(y * tf.log(out), axis=[1]))"
   ]
  },
  {
   "cell_type": "code",
   "execution_count": 9,
   "metadata": {},
   "outputs": [],
   "source": [
    "#訓練\n",
    "train_step = tf.train.GradientDescentOptimizer(0.1).minimize(loss)\n",
    "\n",
    "#評価\n",
    "correct = tf.equal(tf.argmax(out,1), tf.argmax(y,1))\n",
    "accuracy = tf.reduce_mean(tf.cast(correct, tf.float32))"
   ]
  },
  {
   "cell_type": "code",
   "execution_count": 10,
   "metadata": {},
   "outputs": [
    {
     "name": "stdout",
     "output_type": "stream",
     "text": [
      "Step 100: accuracy = 0.44\n",
      "Step 200: accuracy = 0.59\n",
      "Step 300: accuracy = 0.70\n",
      "Step 400: accuracy = 0.80\n",
      "Step 500: accuracy = 0.83\n",
      "Step 600: accuracy = 0.87\n",
      "Step 700: accuracy = 0.90\n",
      "Step 800: accuracy = 0.91\n",
      "Step 900: accuracy = 0.93\n",
      "Step 1000: accuracy = 0.93\n"
     ]
    }
   ],
   "source": [
    "init = tf.global_variables_initializer()\n",
    "\n",
    "with tf.Session() as sess:\n",
    "    sess.run(init)\n",
    "    #テストデータをロード\n",
    "    test_images = mnist.test.images\n",
    "    test_labels = mnist.test.labels\n",
    "\n",
    "    for i in range(1000):\n",
    "        step = i+1\n",
    "        train_images, train_labels = mnist.train.next_batch(50)\n",
    "        sess.run(train_step, feed_dict={x:train_images ,y:train_labels})\n",
    "\n",
    "        #10階ごとに精度を検証\n",
    "        if step % 100 == 0:\n",
    "            acc_val = sess.run( accuracy, feed_dict={x:test_images, y:test_labels})\n",
    "            print('Step %d: accuracy = %.2f' % (step, acc_val))\n",
    "            "
   ]
  },
  {
   "cell_type": "markdown",
   "metadata": {},
   "source": [
    "# MeCab"
   ]
  },
  {
   "cell_type": "markdown",
   "metadata": {},
   "source": [
    "https://qiita.com/SUZUKI_Masaya/items/1e31b65b92640e045a99    \n",
    "-F, --node-format\t通常の形態素の出力フォーマット    \n",
    "-U, --unk-format\t未知語形態素の出力フォーマット    \n",
    "-B, --bos-format\tHeaderの出力フォーマット    \n",
    "-E, --eos-format\tFooterの出力フォーマット    \n"
   ]
  },
  {
   "cell_type": "code",
   "execution_count": 10,
   "metadata": {},
   "outputs": [
    {
     "name": "stdout",
     "output_type": "stream",
     "text": [
      "本日\r\n",
      "は\r\n",
      "晴天\r\n",
      "なり\r\n",
      "。\r\n",
      "EOS\r\n"
     ]
    }
   ],
   "source": [
    "!echo \"本日は晴天なり。\" | mecab -F \"%m\\n\""
   ]
  },
  {
   "cell_type": "code",
   "execution_count": 11,
   "metadata": {},
   "outputs": [
    {
     "name": "stdout",
     "output_type": "stream",
     "text": [
      "本日\t名詞,副詞可能,*,*,*,*,本日,ホンジツ,ホンジツ\r\n",
      "は\t助詞,係助詞,*,*,*,*,は,ハ,ワ\r\n",
      "晴天\t名詞,一般,*,*,*,*,晴天,セイテン,セイテン\r\n",
      "なり\t助動詞,*,*,*,文語・ナリ,基本形,なり,ナリ,ナリ\r\n",
      "。\t記号,句点,*,*,*,*,。,。,。\r\n",
      "EOS\r\n"
     ]
    }
   ],
   "source": [
    "!echo \"本日は晴天なり。\" | mecab -U \"%m\\n\""
   ]
  },
  {
   "cell_type": "code",
   "execution_count": null,
   "metadata": {},
   "outputs": [],
   "source": []
  },
  {
   "cell_type": "markdown",
   "metadata": {},
   "source": [
    "MeCabをブーストさせよう      \n",
    "https://qiita.com/knknkn1162/items/8c12f42dd167aae01c02    "
   ]
  },
  {
   "cell_type": "markdown",
   "metadata": {},
   "source": [
    "# natto-py"
   ]
  },
  {
   "cell_type": "markdown",
   "metadata": {},
   "source": [
    "https://qiita.com/buruzaemon/items/975027cea6371b2c5ec3    \n",
    "インスタンスを取得    "
   ]
  },
  {
   "cell_type": "code",
   "execution_count": 6,
   "metadata": {},
   "outputs": [
    {
     "name": "stdout",
     "output_type": "stream",
     "text": [
      "<natto.mecab.MeCab model=<cdata 'mecab_model_t *' 0x7f9d5885ef00>, tagger=<cdata 'mecab_t *' 0x7f9d588df000>, lattice=<cdata 'mecab_lattice_t *' 0x7f9d58adae90>, libpath=\"/usr/local/Cellar/mecab/0.996/lib/libmecab.dylib\", options={}, dicts=[<natto.dictionary.DictionaryInfo dictionary=<cdata 'mecab_dictionary_info_t *' 0x7f9d58c19cf0>, filepath=\"/usr/local/lib/mecab/dic/ipadic/sys.dic\", charset=utf8, type=0>], version=0.996>\n"
     ]
    }
   ],
   "source": [
    "from natto import MeCab\n",
    "\n",
    "nm = MeCab()\n",
    "\n",
    "print(nm)"
   ]
  },
  {
   "cell_type": "markdown",
   "metadata": {},
   "source": [
    "parseを使う"
   ]
  },
  {
   "cell_type": "code",
   "execution_count": 7,
   "metadata": {},
   "outputs": [
    {
     "name": "stdout",
     "output_type": "stream",
     "text": [
      "ピンチ\t名詞,一般,*,*,*,*,ピンチ,ピンチ,ピンチ\n",
      "の\t助詞,連体化,*,*,*,*,の,ノ,ノ\n",
      "時\t名詞,非自立,副詞可能,*,*,*,時,トキ,トキ\n",
      "に\t助詞,格助詞,一般,*,*,*,に,ニ,ニ\n",
      "は\t助詞,係助詞,*,*,*,*,は,ハ,ワ\n",
      "必ず\t副詞,助詞類接続,*,*,*,*,必ず,カナラズ,カナラズ\n",
      "ヒーロー\t名詞,一般,*,*,*,*,ヒーロー,ヒーロー,ヒーロー\n",
      "が\t助詞,格助詞,一般,*,*,*,が,ガ,ガ\n",
      "現れる\t動詞,自立,*,*,一段,基本形,現れる,アラワレル,アラワレル\n",
      "。\t記号,句点,*,*,*,*,。,。,。\n",
      "EOS\n"
     ]
    }
   ],
   "source": [
    "from natto import MeCab\n",
    "nm = MeCab()\n",
    "text = \"ピンチの時には必ずヒーローが現れる。\"\n",
    "print(nm.parse(text))"
   ]
  },
  {
   "cell_type": "code",
   "execution_count": null,
   "metadata": {},
   "outputs": [],
   "source": [
    "with MeCab('-F%m,%f[0],%h,%f[8]') as nm:\n",
    "    for n in nm.parse(text, as_nodes=True):\n",
    "        print(n.feature)"
   ]
  },
  {
   "cell_type": "code",
   "execution_count": null,
   "metadata": {},
   "outputs": [],
   "source": []
  },
  {
   "cell_type": "markdown",
   "metadata": {},
   "source": [
    "# 4.5 TensorFlowでWord2Vec"
   ]
  },
  {
   "cell_type": "markdown",
   "metadata": {},
   "source": [
    "データ取得。\n",
    "word2vec/dataフォルダにテキストファイルをダウンロードする。    \n",
    "https://www.aozora.gr.jp/cards/000020/card2569.html#download    "
   ]
  },
  {
   "cell_type": "code",
   "execution_count": 3,
   "metadata": {},
   "outputs": [],
   "source": [
    "# -*- coding: utf-8 -*-\n",
    "\n",
    "import glob\n",
    "import re\n",
    "import collections\n",
    "import random\n",
    "\n",
    "import numpy as np\n",
    "from natto import MeCab\n",
    "\n",
    "class DataSet(object):\n",
    "\n",
    "    def __init__(self, data_dir, max_vocab):\n",
    "\n",
    "        #全データセットのファイルパスを取得\n",
    "        file_pathes = []\n",
    "        for file_path in glob.glob(data_dir+'*'):\n",
    "            file_pathes.append(file_path)\n",
    "\n",
    "        #ファイルを読み込み\n",
    "        row_documents = [self._read_docment(file_path) for file_path in file_pathes]\n",
    "        #必要な部分だけ抽出\n",
    "        documents = [self._preprocessing(document) for document in row_documents]\n",
    "        #形態素解析\n",
    "        splited_documents = [self._morphological(document) for document in documents]\n",
    "\n",
    "        words = []\n",
    "        for word_list in splited_documents:\n",
    "            words.extend(word_list)\n",
    "        \n",
    "        #データセット作成\n",
    "        self.id_sequence, self.word_frequency, self.w_to_id, self.id_to_w = self._build_data_sets(words, max_vocab)\n",
    "        print('Most common words (+UNK)', self.word_frequency[:5])\n",
    "        print('Sample data.')\n",
    "        print(self.id_sequence[:10])\n",
    "        print([self.id_to_w[i] for i in self.id_sequence[:10]])\n",
    "        self.data_index = 0\n",
    "\n",
    "\n",
    "    #ファイルの読み込み\n",
    "    def _read_docment(self, file_path):\n",
    "        with open(file_path, 'r', encoding='sjis') as f:\n",
    "            return f.read()\n",
    "\n",
    "    #ヘッダなどの不要データを前処理。必要な部分だけを返す。\n",
    "    def _preprocessing(self, document):\n",
    "\n",
    "        lines = document.splitlines()\n",
    "        processed_line = []\n",
    "\n",
    "        horizontal_count = 0\n",
    "\n",
    "        for line in lines:\n",
    "\n",
    "            #ヘッダーは読み飛ばす\n",
    "            if horizontal_count < 2:\n",
    "                if line.startswith('-------'):\n",
    "                    horizontal_count += 1\n",
    "                continue\n",
    "            #フッターに入る行になったらそれ以降は無視\n",
    "            if line.startswith('底本：'):\n",
    "                break\n",
    "\n",
    "            line = re.sub(r'《.*》', '', line) #ルビを除去\n",
    "            line = re.sub(r'［.*］', '', line) #脚注を除去\n",
    "            line =re.sub(r'[!-~]', '', line) #半角記号を除去\n",
    "            line =re.sub(r'[︰-＠]', '', line) #全角記号を除去\n",
    "            line = re.sub('｜', '', line) # 脚注の始まりを除去\n",
    "\n",
    "            processed_line.append(line)\n",
    "\n",
    "        return ''.join(processed_line)\n",
    "\n",
    "    #形態素解析\n",
    "    def _morphological(self, document):\n",
    "\n",
    "        word_list = []\n",
    "        #MeCabの形態素解析結果のフォーマット\n",
    "        with MeCab('-F%f[0],%f[1],%f[6]') as mcb:\n",
    "            for token in mcb.parse(document, as_nodes=True):\n",
    "                features = token.feature.split(',')\n",
    "                #名詞（一般）動詞（自立）、形容詞（自立）以外は除外\n",
    "                if features[0] == '名詞' and features[1] == '一般' and features[2] != '':\n",
    "                    word_list.append(features[2])\n",
    "                if features[0] == '動詞' and features[1] == '自立' and features[2] != '':\n",
    "                    word_list.append(features[2])\n",
    "                if features[0] == '形容詞' and features[1] == '自立' and features[2] != '':\n",
    "                    word_list.append(features[2])\n",
    "        return word_list\n",
    "\n",
    "    #辞書作成\n",
    "    def _build_data_sets(self, words, max_vocab):\n",
    "\n",
    "        #単語出現回数を解析。出現数が少ないたんをUnknown wordとしてひとくくりに扱う\n",
    "        word_frequency = [['UNW', -1]]\n",
    "        word_frequency.extend(collections.Counter(words).most_common(max_vocab - 1))\n",
    "        #単語=>IDの辞書\n",
    "        w_to_id = dict()\n",
    "        for word, _ in word_frequency:\n",
    "            w_to_id[word] = len(w_to_id)\n",
    "        #形態素解析した文章を単語IDの並びに変換\n",
    "        id_sequence = list()\n",
    "        unw_count = 0\n",
    "        for word in words:\n",
    "            #UNK処理\n",
    "            if word in w_to_id:\n",
    "                index = w_to_id[word]\n",
    "            else:\n",
    "                index = 0\n",
    "                unw_count += 1\n",
    "            id_sequence.append(index)\n",
    "        word_frequency[0][1] = unw_count\n",
    "        #単語ID=>単語の辞書\n",
    "        id_to_w = dict(zip(w_to_id.values(), w_to_id.keys()))\n",
    "        return id_sequence, word_frequency, w_to_id, id_to_w\n",
    "\n",
    "\n",
    "    # num_skip:１つの入力をどれだけ再利用するか\n",
    "    # skip_window: 左右何語までを正解対象にするか\n",
    "    def create_next_batch(self, batch_size, num_skips, skip_window):\n",
    "\n",
    "        assert batch_size % num_skips == 0\n",
    "        #一つの入力の再利用回数が対象範囲全件を超えてはならない\n",
    "        assert num_skips <= 2 * skip_window\n",
    "        inputs = np.ndarray(shape=(batch_size), dtype=np.int32)\n",
    "        labels = np.ndarray(shape=(batch_size, 1), dtype=np.int32)\n",
    "\n",
    "        span = 2 * skip_window + 1\n",
    "        buffer = collections.deque(maxlen=span)\n",
    "        #データセットが1週しそうならindexを最初にもどす\n",
    "        if self.data_index + span > len(self.id_sequence):\n",
    "            self.data_index = 0\n",
    "        #初期のqueueを構築(window内の単語をすべて格納)\n",
    "        buffer.extend(self.id_sequence[self.data_index:self.data_index+span])\n",
    "        self.data_index += span\n",
    "\n",
    "        for i in range(batch_size // num_skips):\n",
    "            #中心は先に正解データから除外\n",
    "            target = skip_window\n",
    "            targets_to_avoid = [skip_window]\n",
    "            for j in range(num_skips):\n",
    "                #すでに選ばれている物以外から正解データのインデックスを取得\n",
    "                while target in targets_to_avoid:\n",
    "                    target = random.randint(0, span - 1)\n",
    "                #次回以降targetにならないように\n",
    "                targets_to_avoid.append(target)\n",
    "                #入力値になるのはbufferの中心\n",
    "                inputs[i * num_skips + j] = buffer[skip_window]\n",
    "                #ランダムに指定した周辺単語が正解データに\n",
    "                labels[i * num_skips + j, 0] = buffer[target]\n",
    "\n",
    "            #次に入れる単語がデータセットにない場合はbufferには最初の値を入力\n",
    "            if self.data_index == len(self.id_sequence):\n",
    "                buffer = self.id_sequence[:span]\n",
    "                self.data_index = span\n",
    "            else:\n",
    "                #bufferに次の単語を追加してindexを1進める\n",
    "                buffer.append(self.id_sequence[self.data_index])\n",
    "                self.data_index += 1\n",
    "        #最後の方のデータが使われないことを避けるために少しだけindexを元に戻す\n",
    "        self.data_index = (self.data_index + len(self.id_sequence) - span) % len(self.id_sequence)\n",
    "\n",
    "        return inputs, labels\n"
   ]
  },
  {
   "cell_type": "code",
   "execution_count": 5,
   "metadata": {},
   "outputs": [
    {
     "name": "stdout",
     "output_type": "stream",
     "text": [
      "Most common words (+UNK) [['UNW', 0], ('する', 20), ('女', 18), ('云う', 16), ('いい', 7)]\n",
      "Sample data.\n",
      "[2, 21, 283, 1, 43, 286, 43, 278, 186, 22]\n",
      "['女', '間', '隣室', 'する', '遊び', '出かける', '遊び', '場所', '就く', '日本人']\n"
     ]
    }
   ],
   "source": [
    "data_dir = \"word2vec/data/\"\n",
    "max_vocab = 2000\n",
    "\n",
    "data = DataSet(data_dir, max_vocab)"
   ]
  },
  {
   "cell_type": "code",
   "execution_count": 15,
   "metadata": {},
   "outputs": [
    {
     "data": {
      "text/plain": [
       "[2, 21, 283, 1, 43, 286, 43, 278, 186, 22]"
      ]
     },
     "execution_count": 15,
     "metadata": {},
     "output_type": "execute_result"
    }
   ],
   "source": [
    "data.id_sequence[:10]"
   ]
  },
  {
   "cell_type": "code",
   "execution_count": 16,
   "metadata": {},
   "outputs": [
    {
     "data": {
      "text/plain": [
       "[['UNW', 0],\n",
       " ('する', 20),\n",
       " ('女', 18),\n",
       " ('云う', 16),\n",
       " ('いい', 7),\n",
       " ('なる', 6),\n",
       " ('出来る', 5),\n",
       " ('死ぬ', 5),\n",
       " ('ホテル', 5),\n",
       " ('酒場', 4)]"
      ]
     },
     "execution_count": 16,
     "metadata": {},
     "output_type": "execute_result"
    }
   ],
   "source": [
    "data.word_frequency[:10]"
   ]
  },
  {
   "cell_type": "code",
   "execution_count": 19,
   "metadata": {},
   "outputs": [
    {
     "data": {
      "text/plain": [
       "['悪い', 'おさえる', '集まる', '立ち上がる', 'つつく', '蒼い', 'しまう', '眼', '蝋', '売る']"
      ]
     },
     "execution_count": 19,
     "metadata": {},
     "output_type": "execute_result"
    }
   ],
   "source": [
    "list(data.w_to_id)[:10]"
   ]
  },
  {
   "cell_type": "code",
   "execution_count": 20,
   "metadata": {},
   "outputs": [
    {
     "data": {
      "text/plain": [
       "[0, 1, 2, 3, 4, 5, 6, 7, 8, 9]"
      ]
     },
     "execution_count": 20,
     "metadata": {},
     "output_type": "execute_result"
    }
   ],
   "source": [
    "list(data.id_to_w)[:10]"
   ]
  },
  {
   "cell_type": "markdown",
   "metadata": {},
   "source": [
    "ちなみに\n",
    "\n",
    "```\n",
    "FLAGS = tf.app.flags.FLAGS\n",
    "tf.app.flags.DEFINE_string('data_dir', 'data/', \"Data set directory.\")\n",
    "```\n",
    "\n",
    "このflagsはtfで定義できるクラスでjupyterで使う方法を僕は知らない。    \n",
    "\n",
    "tf.app.run()はdef main(argv):を呼ぶ書き方でtfでは一般的のよう。    \n",
    "今回はflagsを消してtf.app.runも消した。"
   ]
  },
  {
   "cell_type": "code",
   "execution_count": 22,
   "metadata": {},
   "outputs": [],
   "source": [
    "import tensorflow as tf\n",
    "import math\n"
   ]
  },
  {
   "cell_type": "code",
   "execution_count": 23,
   "metadata": {},
   "outputs": [],
   "source": [
    "data_dir = \"word2vec/data/\"\n",
    "log_dir = \"logs/\"\n",
    "max_vocab = 2000\n",
    "skip_window = 2\n",
    "num_skips = 4\n",
    "embedding_size = 64\n",
    "num_sumpled = 64\n",
    "num_step = 5000\n",
    "batch_size = 64\n",
    "learning_rate = 0.1\n",
    "create_tsv = True"
   ]
  },
  {
   "cell_type": "code",
   "execution_count": 24,
   "metadata": {},
   "outputs": [
    {
     "name": "stdout",
     "output_type": "stream",
     "text": [
      "Embeddings metadata was saved to logs//words.tsv\n",
      "initialized.\n",
      "Average loss at step  100 :  64.00174959182739\n",
      "Average loss at step  200 :  28.6249920463562\n",
      "Average loss at step  300 :  14.93365819454193\n",
      "Average loss at step  400 :  9.248981757164001\n",
      "Average loss at step  500 :  6.92960422039032\n",
      "Average loss at step  600 :  5.9220040726661685\n",
      "Average loss at step  700 :  5.354932010173798\n",
      "Average loss at step  800 :  5.040696544647217\n",
      "Average loss at step  900 :  4.806441361904144\n",
      "Average loss at step  1000 :  4.590106098651886\n",
      "Average loss at step  1100 :  4.490832369327546\n",
      "Average loss at step  1200 :  4.351421518325806\n",
      "Average loss at step  1300 :  4.274734473228454\n",
      "Average loss at step  1400 :  4.1662952113151555\n",
      "Average loss at step  1500 :  4.077099668979645\n",
      "Average loss at step  1600 :  4.028839948177338\n",
      "Average loss at step  1700 :  3.959950444698334\n",
      "Average loss at step  1800 :  3.896386888027191\n",
      "Average loss at step  1900 :  3.8111266565322874\n",
      "Average loss at step  2000 :  3.74012788772583\n",
      "Average loss at step  2100 :  3.6976532483100892\n",
      "Average loss at step  2200 :  3.6381569075584412\n",
      "Average loss at step  2300 :  3.602387933731079\n",
      "Average loss at step  2400 :  3.5285538697242735\n",
      "Average loss at step  2500 :  3.494366388320923\n",
      "Average loss at step  2600 :  3.436921100616455\n",
      "Average loss at step  2700 :  3.40006044626236\n",
      "Average loss at step  2800 :  3.348679709434509\n",
      "Average loss at step  2900 :  3.298774857521057\n",
      "Average loss at step  3000 :  3.2498739910125733\n",
      "Average loss at step  3100 :  3.2383074831962584\n",
      "Average loss at step  3200 :  3.167858383655548\n",
      "Average loss at step  3300 :  3.1504005432128905\n",
      "Average loss at step  3400 :  3.1045323824882507\n",
      "Average loss at step  3500 :  3.079496030807495\n",
      "Average loss at step  3600 :  3.048466136455536\n",
      "Average loss at step  3700 :  2.9971886396408083\n",
      "Average loss at step  3800 :  2.9671191477775576\n",
      "Average loss at step  3900 :  2.9628773379325866\n",
      "Average loss at step  4000 :  2.924493184089661\n",
      "Average loss at step  4100 :  2.9076996278762817\n",
      "Average loss at step  4200 :  2.863329735994339\n",
      "Average loss at step  4300 :  2.8400395846366884\n",
      "Average loss at step  4400 :  2.8326959371566773\n",
      "Average loss at step  4500 :  2.778846061229706\n",
      "Average loss at step  4600 :  2.762464530467987\n",
      "Average loss at step  4700 :  2.7320763301849365\n",
      "Average loss at step  4800 :  2.700631560087204\n",
      "Average loss at step  4900 :  2.719656300544739\n",
      "Average loss at step  5000 :  2.6549894642829894\n"
     ]
    }
   ],
   "source": [
    "#Embeddingsように使うラベルをtsv形式で保存\n",
    "if create_tsv:\n",
    "    sorted_dict = sorted(data.w_to_id.items(), key=lambda x: x[1])\n",
    "    words = [\"{word}\\n\".format(word=x[0]) for x in sorted_dict]\n",
    "    with open(log_dir+\"words.tsv\", 'w', encoding=\"utf-8\") as f:\n",
    "        f.writelines(words)\n",
    "    print(\"Embeddings metadata was saved to \"+log_dir+\"/words.tsv\")\n",
    "\n",
    "\n",
    "batch_size = batch_size\n",
    "embedding_size = embedding_size\n",
    "vocab_size = len(data.w_to_id)\n",
    "#placeholderの定義\n",
    "inputs = tf.placeholder(tf.int32, shape=[batch_size])\n",
    "correct = tf.placeholder(tf.int32, shape=[batch_size, 1])\n",
    "\n",
    "#embedding_lookup：文字埋め込みレイヤー\n",
    "word_embedding = tf.Variable(tf.random_uniform([vocab_size, embedding_size], -1.0, 1.0),name='word_embedding')\n",
    "embed = tf.nn.embedding_lookup(word_embedding, inputs)\n",
    "w_out = tf.Variable(tf.truncated_normal([vocab_size, embedding_size], stddev =1.0 / math.sqrt(embedding_size)))\n",
    "b_out = tf.Variable(tf.zeros([vocab_size]))\n",
    "\n",
    "#nce_loss：Noise Contrastive Estimation (NCE)\n",
    "#http://enakai00.hatenablog.com/entry/2016/03/22/102437\n",
    "nce_loss = tf.nn.nce_loss(weights=w_out, biases = b_out, labels=correct, inputs=embed, num_sampled=num_sumpled, num_classes=vocab_size)\n",
    "loss = tf.reduce_mean(nce_loss)\n",
    "\n",
    "global_step = tf.Variable(0, name='global_step', trainable=False)\n",
    "train_op = tf.train.GradientDescentOptimizer(learning_rate).minimize(loss, global_step=global_step)\n",
    "\n",
    "init = tf.global_variables_initializer()\n",
    "saver = tf.train.Saver(max_to_keep=3)\n",
    "\n",
    "with tf.Session() as sess:\n",
    "\n",
    "    ckpt_state = tf.train.get_checkpoint_state(log_dir)\n",
    "    if ckpt_state:\n",
    "        last_model = ckpt_state.model_checkpoint_path\n",
    "        saver.restore(sess,last_model)\n",
    "        print(\"model was loaded:\", last_model)\n",
    "    else:\n",
    "        sess.run(init)\n",
    "        print(\"initialized.\")\n",
    "\n",
    "    last_step = sess.run(global_step)\n",
    "    average_loss = 0\n",
    "    for i in range(num_step):\n",
    "\n",
    "        step = last_step + i + 1\n",
    "        #create_next_batchで新しいバッチ取得\n",
    "        batch_inputs, batch_labels = data.create_next_batch(batch_size, num_skips, skip_window)\n",
    "        feed_dict = {inputs: batch_inputs, correct: batch_labels}\n",
    "\n",
    "        _, loss_val = sess.run([train_op, loss], feed_dict=feed_dict)\n",
    "        average_loss += loss_val\n",
    "\n",
    "        if step % 100 == 0:\n",
    "            average_loss /= 100\n",
    "            print('Average loss at step ', step, ': ', average_loss)\n",
    "            average_loss = 0\n",
    "            saver.save(sess, log_dir+'my_model.ckpt', step)\n",
    "\n"
   ]
  },
  {
   "cell_type": "code",
   "execution_count": null,
   "metadata": {},
   "outputs": [],
   "source": []
  }
 ],
 "metadata": {
  "kernelspec": {
   "display_name": "Python 3",
   "language": "python",
   "name": "python3"
  },
  "language_info": {
   "codemirror_mode": {
    "name": "ipython",
    "version": 3
   },
   "file_extension": ".py",
   "mimetype": "text/x-python",
   "name": "python",
   "nbconvert_exporter": "python",
   "pygments_lexer": "ipython3",
   "version": "3.5.5"
  }
 },
 "nbformat": 4,
 "nbformat_minor": 2
}
